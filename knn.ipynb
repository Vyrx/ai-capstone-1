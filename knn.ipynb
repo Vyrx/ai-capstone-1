{
 "cells": [
  {
   "cell_type": "code",
   "execution_count": 13,
   "metadata": {},
   "outputs": [],
   "source": [
    "import pandas as pd\n",
    "import numpy as np\n",
    "import math\n",
    "from sklearn.neighbors import KNeighborsClassifier\n",
    "\n"
   ]
  },
  {
   "cell_type": "code",
   "execution_count": 14,
   "metadata": {},
   "outputs": [
    {
     "name": "stdout",
     "output_type": "stream",
     "text": [
      "            date  tmin  tmax  prcp  snow  snwd   awnd\n",
      "993   2019-11-25    32    62  0.00   0.0   0.0   2.24\n",
      "687   2021-03-24    55    68  0.07   0.0   0.0   4.70\n",
      "1908  2021-06-21    72    91  0.00   0.0   0.0   9.40\n",
      "399   2022-04-02    35    66  0.00   0.0   0.0   3.80\n",
      "782   2017-02-02    37    61  0.00   0.0   0.0   2.24\n",
      "...          ...   ...   ...   ...   ...   ...    ...\n",
      "145   2019-01-18    39    59  0.00   0.0   0.0   4.92\n",
      "582   2019-07-17    76    98  0.03   0.0   0.0   8.95\n",
      "1022  2020-04-13    61    81  0.39   0.0   0.0  15.43\n",
      "1386  2019-09-23    62    91  0.00   0.0   0.0   7.61\n",
      "1750  2019-04-02    31    40  0.35   0.0   0.0   5.82\n",
      "\n",
      "[1972 rows x 7 columns]\n"
     ]
    }
   ],
   "source": [
    "df = pd.read_csv('rdu-weather-history.csv',sep=';')\n",
    "df = df.dropna()\n",
    "df = df.sample(frac=1)\n",
    "data = np.array(df)\n",
    "row_count = np.shape(data)[0]\n",
    "\n",
    "print(df) \n",
    "# Date Min_temp Max_temp Precipation Snow_fall Snow_depth Average_daily_wind_speed"
   ]
  },
  {
   "cell_type": "markdown",
   "metadata": {},
   "source": [
    "## KNN"
   ]
  },
  {
   "cell_type": "code",
   "execution_count": 15,
   "metadata": {},
   "outputs": [
    {
     "name": "stdout",
     "output_type": "stream",
     "text": [
      "0.7131979695431472\n",
      "0.7411167512690355\n",
      "0.700507614213198\n",
      "0.6852791878172588\n",
      "0.6954314720812182\n",
      "Average acc: 0.7071065989847715\n"
     ]
    }
   ],
   "source": [
    "\n",
    "k = 5\n",
    "test_size = math.floor(row_count / k)\n",
    "data = data[:test_size * k]\n",
    "avg_acc = 0\n",
    "\n",
    "for i in range(5):\n",
    "    knn = KNeighborsClassifier(n_neighbors=4)\n",
    "    X = np.concatenate((data[:i*test_size,[1,2,4,5,6]],data[(i+1)*test_size:,[1,2,4,5,6]]))\n",
    "    didRain = np.array([True if x[3] > 0 else False for x in data])\n",
    "    Y = np.concatenate((didRain[:i*test_size], didRain[(i+1)*test_size:]))\n",
    "    knn.fit(X, Y)\n",
    "    test_data = data[i*test_size:(i+1)*test_size,[1,2,4,5,6]]\n",
    "    predict = knn.predict(test_data)\n",
    "\n",
    "    # test\n",
    "    truecount = falsecount = 0\n",
    "    for j in range(test_size):\n",
    "        if predict[j] == didRain[j + i * test_size]:\n",
    "            truecount += 1\n",
    "        else:\n",
    "            falsecount += 1\n",
    "\n",
    "    acc = truecount / (truecount + falsecount)\n",
    "    print(acc)\n",
    "    avg_acc += acc\n",
    "\n",
    "avg_acc /= k\n",
    "print(\"Average acc: \" + str(avg_acc))\n"
   ]
  },
  {
   "cell_type": "markdown",
   "metadata": {},
   "source": [
    "Try with smaller data size"
   ]
  },
  {
   "cell_type": "code",
   "execution_count": 16,
   "metadata": {},
   "outputs": [
    {
     "name": "stdout",
     "output_type": "stream",
     "text": [
      "0.7055837563451777\n",
      "0.6954314720812182\n",
      "0.7208121827411168\n",
      "0.7055837563451777\n",
      "0.6598984771573604\n",
      "Average acc: 0.6974619289340102"
     ]
    },
    {
     "name": "stdout",
     "output_type": "stream",
     "text": [
      "\n"
     ]
    }
   ],
   "source": [
    "data_half = data[:int(np.shape(data)[0]/2)]\n",
    "\n",
    "k = 5\n",
    "test_size = math.floor(np.shape(data_half)[0] / k)\n",
    "data_half = data_half[:test_size * k]\n",
    "avg_acc = 0\n",
    "\n",
    "for i in range(5):\n",
    "    knn = KNeighborsClassifier(n_neighbors=4)\n",
    "    X = np.concatenate((data_half[:i*test_size,[1,2,4,5,6]],data_half[(i+1)*test_size:,[1,2,4,5,6]]))\n",
    "    didRain = np.array([True if x[3] > 0 else False for x in data_half])\n",
    "    Y = np.concatenate((didRain[:i*test_size], didRain[(i+1)*test_size:]))\n",
    "    knn.fit(X, Y)\n",
    "    test_data = data_half[i*test_size:(i+1)*test_size,[1,2,4,5,6]]\n",
    "    predict = knn.predict(test_data)\n",
    "\n",
    "    # test\n",
    "    truecount = falsecount = 0\n",
    "    for j in range(test_size):\n",
    "        if predict[j] == didRain[j + i * test_size]:\n",
    "            truecount += 1\n",
    "        else:\n",
    "            falsecount += 1\n",
    "\n",
    "    acc = truecount / (truecount + falsecount)\n",
    "    print(acc)\n",
    "    avg_acc += acc\n",
    "\n",
    "avg_acc /= k\n",
    "print(\"Average acc: \" + str(avg_acc))"
   ]
  }
 ],
 "metadata": {
  "kernelspec": {
   "display_name": "Python 3",
   "language": "python",
   "name": "python3"
  },
  "language_info": {
   "codemirror_mode": {
    "name": "ipython",
    "version": 3
   },
   "file_extension": ".py",
   "mimetype": "text/x-python",
   "name": "python",
   "nbconvert_exporter": "python",
   "pygments_lexer": "ipython3",
   "version": "3.9.4"
  }
 },
 "nbformat": 4,
 "nbformat_minor": 2
}
