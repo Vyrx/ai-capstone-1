{
 "cells": [
  {
   "cell_type": "code",
   "execution_count": 46,
   "metadata": {},
   "outputs": [],
   "source": [
    "import pandas as pd\n",
    "import numpy as np\n",
    "import math\n",
    "from sklearn.cluster import KMeans\n",
    "\n"
   ]
  },
  {
   "cell_type": "code",
   "execution_count": 47,
   "metadata": {},
   "outputs": [
    {
     "name": "stdout",
     "output_type": "stream",
     "text": [
      "            date  tmin  tmax  prcp  snow  snwd   awnd\n",
      "1256  2018-01-26    25    57  0.00   0.0   0.0   4.25\n",
      "1528  2021-06-20    71    82  1.45   0.0   0.0   6.49\n",
      "826   2017-08-11    73    89  1.20   0.0   0.0   4.25\n",
      "662   2020-11-19    28    57  0.00   0.0   0.0   2.01\n",
      "768   2022-05-09    44    71  0.00   0.0   0.0   7.20\n",
      "...          ...   ...   ...   ...   ...   ...    ...\n",
      "233   2020-03-09    37    69  0.00   0.0   0.0  11.41\n",
      "350   2021-09-04    54    85  0.00   0.0   0.0   2.91\n",
      "998   2019-12-25    32    58  0.00   0.0   0.0   2.46\n",
      "1032  2020-05-16    60    89  0.00   0.0   0.0   6.93\n",
      "337   2021-07-29    68    94  0.00   0.0   0.0   8.28\n",
      "\n",
      "[1972 rows x 7 columns]\n"
     ]
    }
   ],
   "source": [
    "df = pd.read_csv('rdu-weather-history.csv',sep=';')\n",
    "df = df.dropna()\n",
    "df = df.sample(frac=1)\n",
    "data = np.array(df)\n",
    "row_count = np.shape(data)[0]\n",
    "\n",
    "print(df) \n",
    "# Date Min_temp Max_temp Precipation Snow_fall Snow_depth Average_daily_wind_speed"
   ]
  },
  {
   "cell_type": "markdown",
   "metadata": {},
   "source": [
    "## K-means"
   ]
  },
  {
   "cell_type": "code",
   "execution_count": 48,
   "metadata": {},
   "outputs": [
    {
     "name": "stdout",
     "output_type": "stream",
     "text": [
      "0.5025380710659898\n",
      "0.5279187817258884\n",
      "0.5050761421319797\n",
      "0.5304568527918782\n",
      "0.5152284263959391\n",
      "Average acc: 0.516243654822335\n"
     ]
    }
   ],
   "source": [
    "\n",
    "k = 5\n",
    "test_size = math.floor(row_count / k)\n",
    "data = data[:test_size * k]\n",
    "avg_acc = 0\n",
    "\n",
    "for i in range(5):\n",
    "    \n",
    "    X = np.concatenate((data[:i*test_size,[1,2,4,5,6]],data[(i+1)*test_size:,[1,2,4,5,6]]))\n",
    "    didRain = np.array([True if x[3] > 0 else False for x in data])\n",
    "    Y = np.concatenate((didRain[:i*test_size], didRain[(i+1)*test_size:]))\n",
    "    kmeans = KMeans(n_clusters=2,max_iter=1000).fit(X)\n",
    "    test_data = data[i*test_size:(i+1)*test_size,[1,2,4,5,6]]\n",
    "    predict = kmeans.predict(test_data)\n",
    "\n",
    "    # test\n",
    "    truecount = falsecount = 0\n",
    "    for j in range(test_size):\n",
    "        if predict[j] == didRain[j + i * test_size]:\n",
    "            truecount += 1\n",
    "        else:\n",
    "            falsecount += 1\n",
    "    \n",
    "    if falsecount > truecount:\n",
    "        truecount, falsecount = falsecount, truecount\n",
    "\n",
    "    acc = truecount / (truecount + falsecount)\n",
    "    print(acc)\n",
    "    avg_acc += acc\n",
    "\n",
    "avg_acc /= k\n",
    "print(\"Average acc: \" + str(avg_acc))\n"
   ]
  },
  {
   "cell_type": "markdown",
   "metadata": {},
   "source": [
    "Try with smaller data size"
   ]
  },
  {
   "cell_type": "code",
   "execution_count": 49,
   "metadata": {},
   "outputs": [
    {
     "name": "stdout",
     "output_type": "stream",
     "text": [
      "0.5126903553299492\n"
     ]
    },
    {
     "name": "stdout",
     "output_type": "stream",
     "text": [
      "0.5025380710659898\n",
      "0.5380710659898477\n",
      "0.5177664974619289\n",
      "0.5025380710659898\n",
      "Average acc: 0.5147208121827411\n"
     ]
    }
   ],
   "source": [
    "data_half = data[:int(np.shape(data)[0]/2)]\n",
    "\n",
    "k = 5\n",
    "test_size = math.floor(np.shape(data_half)[0] / k)\n",
    "data_half = data_half[:test_size * k]\n",
    "avg_acc = 0\n",
    "\n",
    "for i in range(5):\n",
    "\n",
    "    X = np.concatenate((data_half[:i*test_size,[1,2,4,5,6]],data_half[(i+1)*test_size:,[1,2,4,5,6]]))\n",
    "    didRain = np.array([True if x[3] > 0 else False for x in data_half])\n",
    "    Y = np.concatenate((didRain[:i*test_size], didRain[(i+1)*test_size:]))\n",
    "    kmeans = KMeans(n_clusters=2,max_iter=1000).fit(X)\n",
    "    test_data = data_half[i*test_size:(i+1)*test_size,[1,2,4,5,6]]\n",
    "    predict = kmeans.predict(test_data)\n",
    "\n",
    "    # test\n",
    "    truecount = falsecount = 0\n",
    "    for j in range(test_size):\n",
    "        if predict[j] == didRain[j + i * test_size]:\n",
    "            truecount += 1\n",
    "        else:\n",
    "            falsecount += 1\n",
    "    \n",
    "    if falsecount > truecount:\n",
    "        truecount, falsecount = falsecount, truecount\n",
    "\n",
    "    acc = truecount / (truecount + falsecount)\n",
    "    print(acc)\n",
    "    avg_acc += acc\n",
    "\n",
    "avg_acc /= k\n",
    "print(\"Average acc: \" + str(avg_acc))"
   ]
  }
 ],
 "metadata": {
  "kernelspec": {
   "display_name": "Python 3",
   "language": "python",
   "name": "python3"
  },
  "language_info": {
   "codemirror_mode": {
    "name": "ipython",
    "version": 3
   },
   "file_extension": ".py",
   "mimetype": "text/x-python",
   "name": "python",
   "nbconvert_exporter": "python",
   "pygments_lexer": "ipython3",
   "version": "3.9.4"
  }
 },
 "nbformat": 4,
 "nbformat_minor": 2
}
