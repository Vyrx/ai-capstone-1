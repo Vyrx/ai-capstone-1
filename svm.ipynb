{
 "cells": [
  {
   "cell_type": "code",
   "execution_count": 17,
   "metadata": {},
   "outputs": [],
   "source": [
    "import pandas as pd\n",
    "import numpy as np\n",
    "import math\n",
    "from sklearn import svm\n"
   ]
  },
  {
   "cell_type": "code",
   "execution_count": 18,
   "metadata": {},
   "outputs": [
    {
     "name": "stdout",
     "output_type": "stream",
     "text": [
      "            date  tmin  tmax  prcp  snow  snwd  awnd\n",
      "261   2020-08-01    75    94   0.0   0.0   0.0  6.26\n",
      "920   2018-10-22    34    62   0.0   0.0   0.0  3.80\n",
      "991   2019-11-20    38    61   0.0   0.0   0.0  2.91\n",
      "1444  2020-06-25    71    86   0.0   0.0   0.0  7.16\n",
      "586   2019-07-25    63    87   0.0   0.0   0.0  4.25\n",
      "...          ...   ...   ...   ...   ...   ...   ...\n",
      "129   2018-11-27    31    48   0.0   0.0   0.0  6.71\n",
      "1072  2021-01-09    28    50   0.0   0.0   0.0  2.91\n",
      "1287  2018-05-23    69    87   0.0   0.0   0.0  6.93\n",
      "359   2021-10-23    50    73   0.0   0.0   0.0  2.24\n",
      "364   2021-11-02    45    66   0.0   0.0   0.0  5.14\n",
      "\n",
      "[1972 rows x 7 columns]\n"
     ]
    }
   ],
   "source": [
    "df = pd.read_csv('rdu-weather-history.csv',sep=';')\n",
    "df = df.dropna()\n",
    "df = df.sample(frac=1)\n",
    "data = np.array(df)\n",
    "row_count = np.shape(data)[0]\n",
    "\n",
    "print(df) \n",
    "# Date Min_temp Max_temp Precipation Snow_fall Snow_depth Average_daily_wind_speed"
   ]
  },
  {
   "cell_type": "markdown",
   "metadata": {},
   "source": [
    "## SVM"
   ]
  },
  {
   "cell_type": "code",
   "execution_count": 19,
   "metadata": {},
   "outputs": [
    {
     "name": "stdout",
     "output_type": "stream",
     "text": [
      "0.733502538071066\n",
      "0.700507614213198\n",
      "0.766497461928934\n",
      "0.7690355329949239\n",
      "0.7538071065989848\n",
      "Average acc: 0.7446700507614213\n"
     ]
    }
   ],
   "source": [
    "\n",
    "k = 5\n",
    "test_size = math.floor(row_count / k)\n",
    "data = data[:test_size * k]\n",
    "avg_acc = 0\n",
    "\n",
    "for i in range(5):\n",
    "    clf = svm.SVC()\n",
    "    X = np.concatenate((data[:i*test_size,[1,2,4,5,6]],data[(i+1)*test_size:,[1,2,4,5,6]]))\n",
    "    didRain = np.array([True if x[3] > 0 else False for x in data])\n",
    "    Y = np.concatenate((didRain[:i*test_size], didRain[(i+1)*test_size:]))\n",
    "    clf.fit(X, Y)\n",
    "    test_data = data[i*test_size:(i+1)*test_size,[1,2,4,5,6]]\n",
    "    predict = clf.predict(test_data)\n",
    "\n",
    "    # test\n",
    "    truecount = falsecount = 0\n",
    "    for j in range(test_size):\n",
    "        if predict[j] == didRain[j + i * test_size]:\n",
    "            truecount += 1\n",
    "        else:\n",
    "            falsecount += 1\n",
    "\n",
    "    acc = truecount / (truecount + falsecount)\n",
    "    print(acc)\n",
    "    avg_acc += acc\n",
    "\n",
    "avg_acc /= k\n",
    "print(\"Average acc: \" + str(avg_acc))\n"
   ]
  },
  {
   "cell_type": "markdown",
   "metadata": {},
   "source": [
    "Try with smaller data size"
   ]
  },
  {
   "cell_type": "code",
   "execution_count": 20,
   "metadata": {},
   "outputs": [
    {
     "name": "stdout",
     "output_type": "stream",
     "text": [
      "0.6954314720812182\n",
      "0.7106598984771574\n",
      "0.6954314720812182\n",
      "0.6903553299492385\n",
      "0.700507614213198\n",
      "Average acc: 0.698477157360406\n"
     ]
    }
   ],
   "source": [
    "data_half = data[:int(np.shape(data)[0]/2)]\n",
    "\n",
    "k = 5\n",
    "test_size = math.floor(np.shape(data_half)[0] / k)\n",
    "data_half = data_half[:test_size * k]\n",
    "avg_acc = 0\n",
    "\n",
    "for i in range(5):\n",
    "    clf = svm.SVC()\n",
    "    X = np.concatenate((data_half[:i*test_size,[1,2,4,5,6]],data_half[(i+1)*test_size:,[1,2,4,5,6]]))\n",
    "    didRain = np.array([True if x[3] > 0 else False for x in data_half])\n",
    "    Y = np.concatenate((didRain[:i*test_size], didRain[(i+1)*test_size:]))\n",
    "    clf.fit(X, Y)\n",
    "    test_data = data_half[i*test_size:(i+1)*test_size,[1,2,4,5,6]]\n",
    "    predict = clf.predict(test_data)\n",
    "\n",
    "    # test\n",
    "    truecount = falsecount = 0\n",
    "    for j in range(test_size):\n",
    "        if predict[j] == didRain[j + i * test_size]:\n",
    "            truecount += 1\n",
    "        else:\n",
    "            falsecount += 1\n",
    "\n",
    "    acc = truecount / (truecount + falsecount)\n",
    "    print(acc)\n",
    "    avg_acc += acc\n",
    "\n",
    "avg_acc /= k\n",
    "print(\"Average acc: \" + str(avg_acc))"
   ]
  }
 ],
 "metadata": {
  "kernelspec": {
   "display_name": "Python 3",
   "language": "python",
   "name": "python3"
  },
  "language_info": {
   "codemirror_mode": {
    "name": "ipython",
    "version": 3
   },
   "file_extension": ".py",
   "mimetype": "text/x-python",
   "name": "python",
   "nbconvert_exporter": "python",
   "pygments_lexer": "ipython3",
   "version": "3.9.4"
  }
 },
 "nbformat": 4,
 "nbformat_minor": 2
}
